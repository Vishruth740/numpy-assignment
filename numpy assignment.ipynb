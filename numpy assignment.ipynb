{
 "cells": [
  {
   "cell_type": "code",
   "execution_count": 5,
   "metadata": {},
   "outputs": [
    {
     "name": "stdout",
     "output_type": "stream",
     "text": [
      "enter the elemnts of array:1 2 3 4 5\n",
      "enter number of columns:3\n",
      "The input array is: [1 2 3 4 5]\n",
      "Number of columns in output matrix should be: 3\n",
      "Vander matrix of the input array in decreasing order of powers:\n",
      "\n",
      " [[ 1  1  1]\n",
      " [ 4  2  1]\n",
      " [ 9  3  1]\n",
      " [16  4  1]\n",
      " [25  5  1]] \n",
      "\n",
      "Vander matrix of the input array in increasing order of powers:\n",
      "\n",
      " [[ 1  1  1]\n",
      " [ 1  2  4]\n",
      " [ 1  3  9]\n",
      " [ 1  4 16]\n",
      " [ 1  5 25]] \n",
      "\n"
     ]
    }
   ],
   "source": [
    "#Write a function so that the columns of the output matrix are powers of the input vector.\n",
    "#The order of the powers is determined by the increasing boolean argument. Specifically, whenincreasing is False, the i-th output column is the input vector raised element-wise to the power\n",
    "#of N - i - 1.\n",
    "import numpy as np\n",
    "def Alexandre(array1,n,increasing):\n",
    "    if increasing==False:\n",
    "        list1=np.array([x**(n-1-i) for x in array1 for i in range(n) ]).reshape(array1.size,n)\n",
    "        return list1\n",
    "    elif increasing==True:\n",
    "        list3=np.array([x**(i) for x in array1 for i in range(n) ]).reshape(array1.size,n)\n",
    "        return list3\n",
    "list1=[int(x) for x in input(\"enter the elemnts of array:\").split()]\n",
    "array1 = np.array(list1)\n",
    "no_colum = int(input(\"enter number of columns:\"))\n",
    "a= Alexandre(array1,no_colum,False)\n",
    "b= Alexandre(array1,no_colum,True)\n",
    "\n",
    "print(\"The input array is:\",array1)\n",
    "print(\"Number of columns in output matrix should be:\",no_colum,)\n",
    "print(\"Vander matrix of the input array in decreasing order of powers:\\n\\n\",a,\"\\n\")\n",
    "print(\"Vander matrix of the input array in increasing order of powers:\\n\\n\",b,\"\\n\")"
   ]
  },
  {
   "cell_type": "code",
   "execution_count": 21,
   "metadata": {},
   "outputs": [
    {
     "name": "stdout",
     "output_type": "stream",
     "text": [
      "enter the length of window:3\n",
      "Moving average values list:  [5.0, 4.67, 5.67, 6.67, 9.67, 28.67, 49.33, 72.67, 84.0, 93.33, 116.33]\n",
      "Length of the list l-N+1:  11\n"
     ]
    }
   ],
   "source": [
    "#Write a function to find moving average in an array over a window: Test it over [3, 5, 7, 2, 8, 10, 11, 65, 72, 81, 99, 100, 150] and window of 3.\n",
    "def movavg(list1,k):\n",
    "    cumsum=[0]\n",
    "    moving_avg=[]\n",
    "    for i, j in enumerate(mylist, 1):\n",
    "        cumsum.append(cumsum[i-1] + x)\n",
    "        if i>=k:\n",
    "            moving_avg1=float((cumsum[i]-cumsum[i-k])/k)\n",
    "            moving_avg.append(moving_avg1)\n",
    "        print(\"Moving average values given in list: \", moving_avg)\n",
    "        print(\"Length of the list n-k+1: \", len(moving_avg))\n",
    "list1=[3, 5, 7, 2, 8, 10, 11, 65, 72, 81, 99, 100, 150]\n",
    "k=int(input(\"enter the length of window:\"))\n",
    "mov_avg_val(list1,k)"
   ]
  },
  {
   "cell_type": "code",
   "execution_count": null,
   "metadata": {},
   "outputs": [],
   "source": [
    "\n"
   ]
  }
 ],
 "metadata": {
  "kernelspec": {
   "display_name": "Python 3",
   "language": "python",
   "name": "python3"
  },
  "language_info": {
   "codemirror_mode": {
    "name": "ipython",
    "version": 3
   },
   "file_extension": ".py",
   "mimetype": "text/x-python",
   "name": "python",
   "nbconvert_exporter": "python",
   "pygments_lexer": "ipython3",
   "version": "3.7.6"
  }
 },
 "nbformat": 4,
 "nbformat_minor": 4
}
